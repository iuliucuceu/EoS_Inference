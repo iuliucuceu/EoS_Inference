{
 "cells": [
  {
   "cell_type": "code",
   "execution_count": 11,
   "id": "991826eb-8f74-49e4-885a-f85a249b4ed4",
   "metadata": {},
   "outputs": [],
   "source": [
    "#!/usr/bin/env python\n",
    "\"\"\"\n",
    "Tutorial to demonstrate running parameter estimation on a binary neutron star\n",
    "system taking into account tidal deformabilities with a physically motivated\n",
    "model for the tidal deformabilities.\n",
    "\n",
    "WARNING: The code is extremely slow.\n",
    "\"\"\"\n",
    "\n",
    "\n",
    "import bilby\n",
    "import numpy as np\n",
    "from bilby.gw.eos import EOSFamily, TabularEOS\n",
    "\n",
    "# Specify the output directory and the name of the simulation.\n",
    "outdir = \"outdir\"\n",
    "label = \"bns_inference_18.0\"\n",
    "bilby.core.utils.setup_logger(outdir=outdir, label=label)\n",
    "\n",
    "# Set up a random seed for result reproducibility.  This is optional!\n",
    "np.random.seed(88170235)\n",
    "\n",
    "# We are going to inject a binary neutron star waveform.  We first establish a\n",
    "# dictionary of parameters that includes all of the different waveform\n",
    "# parameters, including masses of the two black holes (mass_1, mass_2),\n",
    "# aligned spins of both black holes (chi_1, chi_2), etc.\n",
    "\n",
    "# We're also going to 'inject' the MPA1 equation of state.\n",
    "# This is done by injecting masses for the two neutron-stars,\n",
    "# assuming a specific equation of state, and calculating\n",
    "# corresponding tidal deformability parameters from the EoS and\n",
    "# masses.\n",
    "mpa1_eos = TabularEOS(\"MPA1\")\n",
    "mpa1_fam = EOSFamily(mpa1_eos)\n",
    "\n",
    "mass_1 = 1.5\n",
    "mass_2 = 1.3\n",
    "lambda_1 = mpa1_fam.lambda_from_mass(mass_1)\n",
    "lambda_2 = mpa1_fam.lambda_from_mass(mass_2)"
   ]
  },
  {
   "cell_type": "code",
   "execution_count": 12,
   "id": "a8940d4a-2d77-4aa0-aa14-33c1a29d9446",
   "metadata": {},
   "outputs": [
    {
     "name": "stdout",
     "output_type": "stream",
     "text": [
      "lambda_1 = 342.4622864681741 lambda_2 = 779.6186030639271 chirp_mass = 1.2150360414642816 symmetric_mass_ratio = 0.24872448979591844 mass_ratio =  0.8666666666666667\n"
     ]
    }
   ],
   "source": [
    "print('lambda_1 =', lambda_1, 'lambda_2 =', lambda_2, \n",
    "      'chirp_mass =', (mass_1*mass_2)**(3/5)/(mass_1+mass_2)**(1/5), \n",
    "      'symmetric_mass_ratio =', (mass_1*mass_2)/(mass_1+mass_2)**2, \n",
    "      'mass_ratio = ', mass_2/mass_1\n",
    ")"
   ]
  },
  {
   "cell_type": "code",
   "execution_count": 13,
   "id": "ea9adb89-512a-4dcc-a872-adb17e8e27d3",
   "metadata": {},
   "outputs": [],
   "source": [
    "injection_parameters = dict(\n",
    "    mass_1=mass_1,\n",
    "    mass_2=mass_2,\n",
    "    chi_1=0.02,\n",
    "    chi_2=0.02,\n",
    "    luminosity_distance=200.0,\n",
    "    theta_jn=0.4,\n",
    "    psi=2.659,\n",
    "    phase=1.3,\n",
    "    geocent_time=1126259642.413,\n",
    "    ra=1.375,\n",
    "    dec=-1.2108,\n",
    "    lambda_1=lambda_1,\n",
    "    lambda_2=lambda_2,\n",
    ")\n",
    "\n",
    "# Set the duration and sampling frequency of the data segment that we're going\n",
    "# to inject the signal into. For the\n",
    "# TaylorF2 waveform, we cut the signal close to the isco frequency\n",
    "duration = 32\n",
    "sampling_frequency = 2048\n",
    "start_time = injection_parameters[\"geocent_time\"] + 2 - duration"
   ]
  },
  {
   "cell_type": "code",
   "execution_count": 14,
   "id": "a743d238-d160-4135-9a81-4d600f42a125",
   "metadata": {
    "tags": []
   },
   "outputs": [
    {
     "name": "stderr",
     "output_type": "stream",
     "text": [
      "10:50 bilby INFO    : Waveform generator initiated with\n",
      "  frequency_domain_source_model: bilby.gw.source.lal_binary_neutron_star\n",
      "  time_domain_source_model: None\n",
      "  parameter_conversion: bilby.gw.conversion.convert_to_lal_binary_neutron_star_parameters\n"
     ]
    }
   ],
   "source": [
    "# Fixed arguments passed into the source model. The analysis starts at 40 Hz.\n",
    "# Note that the EoS sampling is agnostic to waveform model as long as the approximant\n",
    "# can include tides.\n",
    "waveform_arguments = dict(\n",
    "    waveform_approximant=\"IMRPhenomPv2_NRTidal\",\n",
    "    reference_frequency=50.0,\n",
    "    minimum_frequency=40.0,\n",
    ")\n",
    "\n",
    "# Create the waveform_generator using a LAL Binary Neutron Star source function\n",
    "waveform_generator = bilby.gw.WaveformGenerator(\n",
    "    duration=duration,\n",
    "    sampling_frequency=sampling_frequency,\n",
    "    frequency_domain_source_model=bilby.gw.source.lal_binary_neutron_star,\n",
    "    parameter_conversion=bilby.gw.conversion.convert_to_lal_binary_neutron_star_parameters,\n",
    "    waveform_arguments=waveform_arguments,\n",
    ")"
   ]
  },
  {
   "cell_type": "code",
   "execution_count": 15,
   "id": "88b68816-d901-4f07-88ec-a1ad8c05356a",
   "metadata": {
    "tags": []
   },
   "outputs": [
    {
     "name": "stderr",
     "output_type": "stream",
     "text": [
      "10:50 bilby INFO    : Injected signal in H1:\n",
      "10:50 bilby INFO    :   optimal SNR = 8.61\n",
      "10:50 bilby INFO    :   matched filter SNR = 9.94+0.42j\n",
      "10:50 bilby INFO    :   mass_1 = 1.5\n",
      "10:50 bilby INFO    :   mass_2 = 1.3\n",
      "10:50 bilby INFO    :   chi_1 = 0.02\n",
      "10:50 bilby INFO    :   chi_2 = 0.02\n",
      "10:50 bilby INFO    :   luminosity_distance = 200.0\n",
      "10:50 bilby INFO    :   theta_jn = 0.4\n",
      "10:50 bilby INFO    :   psi = 2.659\n",
      "10:50 bilby INFO    :   phase = 1.3\n",
      "10:50 bilby INFO    :   geocent_time = 1126259642.413\n",
      "10:50 bilby INFO    :   ra = 1.375\n",
      "10:50 bilby INFO    :   dec = -1.2108\n",
      "10:50 bilby INFO    :   lambda_1 = 342.4622864681741\n",
      "10:50 bilby INFO    :   lambda_2 = 779.6186030639271\n",
      "10:50 bilby INFO    : Injected signal in L1:\n",
      "10:50 bilby INFO    :   optimal SNR = 6.97\n",
      "10:50 bilby INFO    :   matched filter SNR = 7.47+1.42j\n",
      "10:50 bilby INFO    :   mass_1 = 1.5\n",
      "10:50 bilby INFO    :   mass_2 = 1.3\n",
      "10:50 bilby INFO    :   chi_1 = 0.02\n",
      "10:50 bilby INFO    :   chi_2 = 0.02\n",
      "10:50 bilby INFO    :   luminosity_distance = 200.0\n",
      "10:50 bilby INFO    :   theta_jn = 0.4\n",
      "10:50 bilby INFO    :   psi = 2.659\n",
      "10:50 bilby INFO    :   phase = 1.3\n",
      "10:50 bilby INFO    :   geocent_time = 1126259642.413\n",
      "10:50 bilby INFO    :   ra = 1.375\n",
      "10:50 bilby INFO    :   dec = -1.2108\n",
      "10:50 bilby INFO    :   lambda_1 = 342.4622864681741\n",
      "10:50 bilby INFO    :   lambda_2 = 779.6186030639271\n",
      "10:50 bilby INFO    : Injected signal in V1:\n",
      "10:50 bilby INFO    :   optimal SNR = 7.39\n",
      "10:50 bilby INFO    :   matched filter SNR = 7.77+0.53j\n",
      "10:50 bilby INFO    :   mass_1 = 1.5\n",
      "10:50 bilby INFO    :   mass_2 = 1.3\n",
      "10:50 bilby INFO    :   chi_1 = 0.02\n",
      "10:50 bilby INFO    :   chi_2 = 0.02\n",
      "10:50 bilby INFO    :   luminosity_distance = 200.0\n",
      "10:50 bilby INFO    :   theta_jn = 0.4\n",
      "10:50 bilby INFO    :   psi = 2.659\n",
      "10:50 bilby INFO    :   phase = 1.3\n",
      "10:50 bilby INFO    :   geocent_time = 1126259642.413\n",
      "10:50 bilby INFO    :   ra = 1.375\n",
      "10:50 bilby INFO    :   dec = -1.2108\n",
      "10:50 bilby INFO    :   lambda_1 = 342.4622864681741\n",
      "10:50 bilby INFO    :   lambda_2 = 779.6186030639271\n"
     ]
    },
    {
     "data": {
      "text/plain": [
       "[{'plus': array([0.00000000e+00-0.00000000e+00j, 0.00000000e+00-0.00000000e+00j,\n",
       "         0.00000000e+00-0.00000000e+00j, ...,\n",
       "         1.06432054e-25+1.59358181e-26j, 1.06421968e-25+1.59732981e-26j,\n",
       "         0.00000000e+00-0.00000000e+00j]),\n",
       "  'cross': array([0.00000000e+00+0.00000000e+00j, 0.00000000e+00+0.00000000e+00j,\n",
       "         0.00000000e+00+0.00000000e+00j, ...,\n",
       "         1.58820935e-26-1.06073238e-25j, 1.59194472e-26-1.06063187e-25j,\n",
       "         0.00000000e+00+0.00000000e+00j])},\n",
       " {'plus': array([0.00000000e+00-0.00000000e+00j, 0.00000000e+00-0.00000000e+00j,\n",
       "         0.00000000e+00-0.00000000e+00j, ...,\n",
       "         1.06432054e-25+1.59358181e-26j, 1.06421968e-25+1.59732981e-26j,\n",
       "         0.00000000e+00-0.00000000e+00j]),\n",
       "  'cross': array([0.00000000e+00+0.00000000e+00j, 0.00000000e+00+0.00000000e+00j,\n",
       "         0.00000000e+00+0.00000000e+00j, ...,\n",
       "         1.58820935e-26-1.06073238e-25j, 1.59194472e-26-1.06063187e-25j,\n",
       "         0.00000000e+00+0.00000000e+00j])},\n",
       " {'plus': array([0.00000000e+00-0.00000000e+00j, 0.00000000e+00-0.00000000e+00j,\n",
       "         0.00000000e+00-0.00000000e+00j, ...,\n",
       "         1.06432054e-25+1.59358181e-26j, 1.06421968e-25+1.59732981e-26j,\n",
       "         0.00000000e+00-0.00000000e+00j]),\n",
       "  'cross': array([0.00000000e+00+0.00000000e+00j, 0.00000000e+00+0.00000000e+00j,\n",
       "         0.00000000e+00+0.00000000e+00j, ...,\n",
       "         1.58820935e-26-1.06073238e-25j, 1.59194472e-26-1.06063187e-25j,\n",
       "         0.00000000e+00+0.00000000e+00j])}]"
      ]
     },
     "execution_count": 15,
     "metadata": {},
     "output_type": "execute_result"
    }
   ],
   "source": [
    "# Set up interferometers.  In this case we'll use three interferometers\n",
    "# (LIGO-Hanford (H1), LIGO-Livingston (L1), and Virgo (V1)).\n",
    "# These default to their design sensitivity and start at 40 Hz.\n",
    "interferometers = bilby.gw.detector.InterferometerList([\"H1\", \"L1\", \"V1\"])\n",
    "for interferometer in interferometers:\n",
    "    interferometer.minimum_frequency = 40\n",
    "interferometers.set_strain_data_from_power_spectral_densities(\n",
    "    sampling_frequency=sampling_frequency, duration=duration, start_time=start_time\n",
    ")\n",
    "interferometers.inject_signal(\n",
    "    parameters=injection_parameters, waveform_generator=waveform_generator\n",
    ")"
   ]
  },
  {
   "cell_type": "code",
   "execution_count": 26,
   "id": "5450d39e-e4e3-49bd-9232-ad729cb481d5",
   "metadata": {
    "tags": []
   },
   "outputs": [
    {
     "name": "stderr",
     "output_type": "stream",
     "text": [
      "10:57 bilby INFO    : No prior given, using default BNS priors in /home/iuliu/anaconda3/envs/work/lib/python3.9/site-packages/bilby/gw/prior_files/aligned_spins_bns_tides_on.prior.\n"
     ]
    }
   ],
   "source": [
    "# We're going to sample in chirp_mass, symmetric_mass_ratio, and\n",
    "# specific EoS model parameters. We're using a 4-parameter\n",
    "# spectrally-decomposed EoS parameterization from Lindblom (2010).\n",
    "# BNS have aligned spins by default, if you want to allow precessing spins\n",
    "# pass aligned_spin=False to the BNSPriorDict\n",
    "priors = bilby.gw.prior.BNSPriorDict()\n",
    "for key in [\n",
    "    \"psi\",\n",
    "    \"geocent_time\",\n",
    "    \"ra\",\n",
    "    \"dec\",\n",
    "    \"chi_1\",\n",
    "    \"chi_2\",\n",
    "    \"theta_jn\",\n",
    "    \"luminosity_distance\",\n",
    "    \"phase\",\n",
    "]:\n",
    "    priors[key] = injection_parameters[key]\n",
    "for key in [\"mass_1\", \"mass_2\", \"mass_ratio\"]:\n",
    "    del priors[key]\n",
    "\n",
    "#priors[\"mass_ratio\"] = mass_2/mass_1\n",
    "#priors['mass_1'] = bilby.core.prior.Constraint(\n",
    "#    1, 2, name=\"mass_1\"\n",
    "#)\n",
    "#priors['mass_2'] = bilby.core.prior.Constraint(\n",
    "#    1, 2, name=\"mass_2\"\n",
    "#)\n",
    "priors[\"chirp_mass\"] = bilby.core.prior.Uniform(\n",
    "    0.4, 3.4, name=\"chirp_mass\", unit=\"$M_{\\\\odot}$\"\n",
    ")\n",
    "#priors[\"symmetric_mass_ratio\"] = bilby.core.prior.Uniform(\n",
    "#    0.1, 0.4, name=\"symmetric_mass_ratio\"\n",
    "#)\n",
    "priors[\"lambda_1\"] = bilby.core.prior.Uniform(\n",
    "    0, 2000, name=\"lambda_1\"\n",
    ")\n",
    "priors[\"lambda_2\"] = bilby.core.prior.Uniform(\n",
    "    0, 2000, name=\"lambda_2\"\n",
    ")\n",
    "priors[\"mass_ratio\"] = bilby.core.prior.Uniform(\n",
    "    0.5, 1, name=\"mass_ratio\"\n",
    ")"
   ]
  },
  {
   "cell_type": "code",
   "execution_count": 27,
   "id": "2ad1b47f-77cf-4561-bb88-9e6fe7d994b7",
   "metadata": {},
   "outputs": [
    {
     "data": {
      "text/plain": [
       "{'chirp_mass': Uniform(minimum=0.4, maximum=3.4, name='chirp_mass', latex_label='$\\\\mathcal{M}$', unit='$M_{\\\\odot}$', boundary=None),\n",
       " 'luminosity_distance': 200.0,\n",
       " 'dec': -1.2108,\n",
       " 'ra': 1.375,\n",
       " 'theta_jn': 0.4,\n",
       " 'psi': 2.659,\n",
       " 'phase': 1.3,\n",
       " 'chi_1': 0.02,\n",
       " 'chi_2': 0.02,\n",
       " 'lambda_1': Uniform(minimum=0, maximum=2000, name='lambda_1', latex_label='$\\\\Lambda_1$', unit=None, boundary=None),\n",
       " 'lambda_2': Uniform(minimum=0, maximum=2000, name='lambda_2', latex_label='$\\\\Lambda_2$', unit=None, boundary=None),\n",
       " 'geocent_time': 1126259642.413,\n",
       " 'mass_ratio': Uniform(minimum=0.5, maximum=1, name='mass_ratio', latex_label='$q$', unit=None, boundary=None)}"
      ]
     },
     "execution_count": 27,
     "metadata": {},
     "output_type": "execute_result"
    }
   ],
   "source": [
    "priors"
   ]
  },
  {
   "cell_type": "code",
   "execution_count": 28,
   "id": "0d1214e4-a6fb-4953-898d-522bfa429e86",
   "metadata": {},
   "outputs": [],
   "source": [
    "# The eos_check prior imposes several hard physical constraints on samples like\n",
    "# enforcing causality and monotinicity of the EoSs. In almost ever conceivable\n",
    "# sampling scenario, this should be enabled.\n",
    "priors[\"eos_check\"] = bilby.gw.prior.EOSCheck()\n",
    "\n",
    "# Initialise the likelihood by passing in the interferometer data (IFOs)\n",
    "# and the waveform generator\n",
    "likelihood = bilby.gw.GravitationalWaveTransient(\n",
    "    interferometers=interferometers,\n",
    "    waveform_generator=waveform_generator,\n",
    ")"
   ]
  },
  {
   "cell_type": "code",
   "execution_count": null,
   "id": "4093290d-629f-4b85-99d3-72a217097197",
   "metadata": {},
   "outputs": [
    {
     "name": "stderr",
     "output_type": "stream",
     "text": [
      "10:57 bilby INFO    : Running for label 'bns_inference_18.0', output will be saved to 'outdir'\n",
      "10:57 bilby INFO    : Performing redundancy check using BBHPriorDict(self).test_redundancy\n",
      "10:57 bilby INFO    : Performing redundancy check using BBHPriorDict(self).test_redundancy\n",
      "10:57 bilby INFO    : Performing redundancy check using BBHPriorDict(self).test_redundancy\n",
      "10:57 bilby INFO    : Performing redundancy check using BBHPriorDict(self).test_redundancy\n",
      "10:57 bilby INFO    : Performing redundancy check using BBHPriorDict(self).test_redundancy\n",
      "10:57 bilby INFO    : Performing redundancy check using BBHPriorDict(self).test_redundancy\n",
      "10:57 bilby INFO    : Performing redundancy check using BBHPriorDict(self).test_redundancy\n",
      "10:57 bilby INFO    : Performing redundancy check using BBHPriorDict(self).test_redundancy\n",
      "10:57 bilby INFO    : Performing redundancy check using BBHPriorDict(self).test_redundancy\n",
      "10:57 bilby INFO    : Performing redundancy check using BBHPriorDict(self).test_redundancy\n",
      "10:57 bilby INFO    : Performing redundancy check using BBHPriorDict(self).test_redundancy\n",
      "10:57 bilby INFO    : Performing redundancy check using BBHPriorDict(self).test_redundancy\n",
      "10:57 bilby INFO    : Performing redundancy check using BBHPriorDict(self).test_redundancy\n",
      "10:57 bilby INFO    : Performing redundancy check using BBHPriorDict(self).test_redundancy\n",
      "10:57 bilby INFO    : Using lal version 7.1.7\n",
      "10:57 bilby INFO    : Using lal git version Branch: None;Tag: lalsuite-v7.5;Id: bd2ad8ca448e9761e3010e519a656789332ea28a;;Builder: Unknown User <>;Repository status: CLEAN: All modifications committed\n",
      "10:57 bilby INFO    : Using lalsimulation version 3.1.2\n",
      "10:57 bilby INFO    : Using lalsimulation git version Branch: None;Tag: lalsuite-v7.5;Id: bd2ad8ca448e9761e3010e519a656789332ea28a;;Builder: Unknown User <>;Repository status: CLEAN: All modifications committed\n",
      "10:57 bilby INFO    : Search parameters:\n",
      "10:57 bilby INFO    :   chirp_mass = Uniform(minimum=0.4, maximum=3.4, name='chirp_mass', latex_label='$\\\\mathcal{M}$', unit='$M_{\\\\odot}$', boundary=None)\n",
      "10:57 bilby INFO    :   lambda_1 = Uniform(minimum=0, maximum=2000, name='lambda_1', latex_label='$\\\\Lambda_1$', unit=None, boundary=None)\n",
      "10:57 bilby INFO    :   lambda_2 = Uniform(minimum=0, maximum=2000, name='lambda_2', latex_label='$\\\\Lambda_2$', unit=None, boundary=None)\n",
      "10:57 bilby INFO    :   mass_ratio = Uniform(minimum=0.5, maximum=1, name='mass_ratio', latex_label='$q$', unit=None, boundary=None)\n",
      "10:57 bilby INFO    :   eos_check = EOSCheck(minimum=-inf, maximum=inf)\n",
      "10:57 bilby INFO    :   luminosity_distance = 200.0\n",
      "10:57 bilby INFO    :   dec = -1.2108\n",
      "10:57 bilby INFO    :   ra = 1.375\n",
      "10:57 bilby INFO    :   theta_jn = 0.4\n",
      "10:57 bilby INFO    :   psi = 2.659\n",
      "10:57 bilby INFO    :   phase = 1.3\n",
      "10:57 bilby INFO    :   chi_1 = 0.02\n",
      "10:57 bilby INFO    :   chi_2 = 0.02\n",
      "10:57 bilby INFO    :   geocent_time = 1126259642.413\n",
      "10:57 bilby INFO    : Single likelihood evaluation took 5.416e-02 s\n"
     ]
    },
    {
     "data": {
      "application/vnd.jupyter.widget-view+json": {
       "model_id": "06b8403a8edc46578ee4e76d13ef6804",
       "version_major": 2,
       "version_minor": 0
      },
      "text/plain": [
       "0it [00:00, ?it/s]"
      ]
     },
     "metadata": {},
     "output_type": "display_data"
    },
    {
     "name": "stderr",
     "output_type": "stream",
     "text": [
      "10:57 bilby INFO    : Using sampler Dynesty with kwargs {'bound': 'multi', 'sample': 'rwalk', 'verbose': True, 'periodic': None, 'reflective': None, 'check_point_delta_t': 1800, 'nlive': 150, 'first_update': None, 'walks': 50, 'npdim': None, 'rstate': None, 'queue_size': 8, 'pool': None, 'use_pool': None, 'live_points': None, 'logl_args': None, 'logl_kwargs': None, 'ptform_args': None, 'ptform_kwargs': None, 'enlarge': 1.5, 'bootstrap': None, 'vol_dec': 0.5, 'vol_check': 8.0, 'facc': 0.2, 'slices': 5, 'update_interval': 90, 'print_func': <bound method Dynesty._print_func of <bilby.core.sampler.dynesty.Dynesty object at 0x7efcb2bbcdf0>>, 'dlogz': 0.1, 'maxiter': None, 'maxcall': None, 'logl_max': inf, 'add_live': True, 'print_progress': True, 'save_bounds': False, 'n_effective': None, 'maxmcmc': 5000, 'nact': 5, 'print_method': 'tqdm'}\n",
      "10:57 bilby INFO    : Checkpoint every check_point_delta_t = 600s\n",
      "10:57 bilby INFO    : Using dynesty version 1.0.1\n",
      "10:57 bilby INFO    : Using the bilby-implemented rwalk sample method with ACT estimated walks\n",
      "10:57 bilby INFO    : Setting up multiproccesing pool with 8 processes.\n",
      "10:57 bilby INFO    : Resume file outdir/bns_inference_18.0_resume.pickle does not exist.\n",
      "10:57 bilby INFO    : Generating initial points from the prior\n"
     ]
    }
   ],
   "source": [
    "#Run sampler.  In this case we're going to use the `dynesty` sampler\n",
    "result = bilby.run_sampler(\n",
    "    likelihood=likelihood,\n",
    "    priors=priors,\n",
    "    sampler=\"dynesty\",\n",
    "    npoints=150,\n",
    "    walks=50,\n",
    "    npool=8,\n",
    "    injection_parameters=injection_parameters,\n",
    "    outdir=outdir,\n",
    "    label=label,\n",
    "    conversion_function=bilby.gw.conversion.generate_all_bns_parameters,\n",
    "    resume=True,\n",
    ")\n",
    "\n",
    "result.plot_corner()"
   ]
  },
  {
   "cell_type": "code",
   "execution_count": 10,
   "id": "fe69a394-31da-4f1c-a68e-4fdef22e5401",
   "metadata": {},
   "outputs": [
    {
     "name": "stdout",
     "output_type": "stream",
     "text": [
      "lambda_1 = 342.4622864681741 lambda_2 = 779.6186030639271 chirp_mass = 1.2150360414642816 symmetric_mass_ratio = 0.24872448979591844 mass_ratio =  0.8666666666666667\n"
     ]
    }
   ],
   "source": [
    "print('lambda_1 =', lambda_1, 'lambda_2 =', lambda_2, \n",
    "      'chirp_mass =', (mass_1*mass_2)**(3/5)/(mass_1+mass_2)**(1/5), \n",
    "      'symmetric_mass_ratio =', (mass_1*mass_2)/(mass_1+mass_2)**2, \n",
    "      'mass_ratio = ', mass_2/mass_1\n",
    ")"
   ]
  },
  {
   "cell_type": "code",
   "execution_count": null,
   "id": "6aefee3a-962b-4283-885e-dd483bfe9d68",
   "metadata": {},
   "outputs": [],
   "source": []
  }
 ],
 "metadata": {
  "kernelspec": {
   "display_name": "Python 3 (ipykernel)",
   "language": "python",
   "name": "python3"
  },
  "language_info": {
   "codemirror_mode": {
    "name": "ipython",
    "version": 3
   },
   "file_extension": ".py",
   "mimetype": "text/x-python",
   "name": "python",
   "nbconvert_exporter": "python",
   "pygments_lexer": "ipython3",
   "version": "3.9.12"
  }
 },
 "nbformat": 4,
 "nbformat_minor": 5
}
